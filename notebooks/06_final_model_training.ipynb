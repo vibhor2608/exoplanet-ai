{
 "cells": [
  {
   "cell_type": "code",
   "execution_count": 1,
   "id": "a70ba1be",
   "metadata": {},
   "outputs": [
    {
     "name": "stdout",
     "output_type": "stream",
     "text": [
      "Full dataset shape: (19761, 108807), Target shape: (19761,)\n",
      "🔹 Training final XGBoost model on full dataset...\n"
     ]
    },
    {
     "name": "stderr",
     "output_type": "stream",
     "text": [
      "c:\\Users\\vibho\\Downloads\\Engineering\\exoplanet-ai\\venv\\Lib\\site-packages\\xgboost\\training.py:183: UserWarning: [00:30:22] WARNING: C:\\actions-runner\\_work\\xgboost\\xgboost\\src\\learner.cc:738: \n",
      "Parameters: { \"use_label_encoder\" } are not used.\n",
      "\n",
      "  bst.update(dtrain, iteration=i, fobj=obj)\n"
     ]
    },
    {
     "name": "stdout",
     "output_type": "stream",
     "text": [
      "✅ Final XGBoost model trained.\n",
      "Final model saved to: C:\\Users\\vibho\\Downloads\\Engineering\\exoplanet-ai\\data\\processed\\XGBoost_final_model.pkl\n",
      "Pipeline (with LabelEncoder) saved to: C:\\Users\\vibho\\Downloads\\Engineering\\exoplanet-ai\\data\\processed\\label_encoder.pkl\n"
     ]
    }
   ],
   "source": [
    "# ======================\n",
    "# 06_final_model_training.py\n",
    "# ======================\n",
    "\n",
    "import os\n",
    "import joblib\n",
    "import numpy as np\n",
    "from scipy import sparse\n",
    "from xgboost import XGBClassifier\n",
    "\n",
    "# ======================\n",
    "# File paths\n",
    "# ======================\n",
    "OUTPUT_DIR = r\"C:\\Users\\vibho\\Downloads\\Engineering\\exoplanet-ai\\data\\processed\"\n",
    "PIPELINE_FILE = r\"C:\\Users\\vibho\\Downloads\\Engineering\\exoplanet-ai\\src\\preprocessing\\feature_pipeline.pkl\"\n",
    "\n",
    "# Full dataset\n",
    "X_file = os.path.join(OUTPUT_DIR, \"X_processed.npz\")\n",
    "y_file = os.path.join(OUTPUT_DIR, \"y_encoded.npy\")\n",
    "\n",
    "# Final model paths\n",
    "FINAL_MODEL_FILE = os.path.join(OUTPUT_DIR, \"XGBoost_final_model.pkl\")\n",
    "CLASS_MAPPING_FILE = os.path.join(OUTPUT_DIR, \"class_mapping.npy\")\n",
    "\n",
    "# ======================\n",
    "# Load full dataset\n",
    "# ======================\n",
    "X = sparse.load_npz(X_file)\n",
    "y = np.load(y_file)\n",
    "\n",
    "print(f\"Full dataset shape: {X.shape}, Target shape: {y.shape}\")\n",
    "\n",
    "# ======================\n",
    "# Train final XGBoost model\n",
    "# ======================\n",
    "FINAL_RANDOM_STATE = 42\n",
    "\n",
    "final_model = XGBClassifier(\n",
    "    n_estimators=500,\n",
    "    learning_rate=0.05,\n",
    "    max_depth=6,\n",
    "    subsample=0.8,\n",
    "    colsample_bytree=0.8,\n",
    "    random_state=FINAL_RANDOM_STATE,\n",
    "    n_jobs=-1,\n",
    "    use_label_encoder=False,\n",
    "    eval_metric=\"mlogloss\"\n",
    ")\n",
    "\n",
    "print(\"🔹 Training final XGBoost model on full dataset...\")\n",
    "final_model.fit(X, y)\n",
    "print(\"✅ Final XGBoost model trained.\")\n",
    "\n",
    "# ======================\n",
    "# Save final model\n",
    "# ======================\n",
    "joblib.dump(final_model, FINAL_MODEL_FILE)\n",
    "print(f\"Final model saved to: {FINAL_MODEL_FILE}\")\n",
    "\n",
    "# ======================\n",
    "# Save class mapping\n",
    "# ======================\n",
    "# Load pipeline to get LabelEncoder\n",
    "pipeline = joblib.load(PIPELINE_FILE)\n",
    "# Assuming LabelEncoder was used in feature_engineer.py\n",
    "# Save label classes\n",
    "import joblib\n",
    "label_encoder_file = os.path.join(OUTPUT_DIR, \"label_encoder.pkl\")\n",
    "joblib.dump(pipeline, label_encoder_file)  # Save pipeline with encoder info\n",
    "print(f\"Pipeline (with LabelEncoder) saved to: {label_encoder_file}\")\n"
   ]
  }
 ],
 "metadata": {
  "kernelspec": {
   "display_name": "venv",
   "language": "python",
   "name": "python3"
  },
  "language_info": {
   "codemirror_mode": {
    "name": "ipython",
    "version": 3
   },
   "file_extension": ".py",
   "mimetype": "text/x-python",
   "name": "python",
   "nbconvert_exporter": "python",
   "pygments_lexer": "ipython3",
   "version": "3.13.5"
  }
 },
 "nbformat": 4,
 "nbformat_minor": 5
}
